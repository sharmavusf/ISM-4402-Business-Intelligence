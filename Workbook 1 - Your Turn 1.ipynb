{
 "cells": [
  {
   "cell_type": "code",
   "execution_count": 18,
   "metadata": {
    "scrolled": true
   },
   "outputs": [
    {
     "data": {
      "text/html": [
       "<div>\n",
       "<style scoped>\n",
       "    .dataframe tbody tr th:only-of-type {\n",
       "        vertical-align: middle;\n",
       "    }\n",
       "\n",
       "    .dataframe tbody tr th {\n",
       "        vertical-align: top;\n",
       "    }\n",
       "\n",
       "    .dataframe thead th {\n",
       "        text-align: right;\n",
       "    }\n",
       "</style>\n",
       "<table border=\"1\" class=\"dataframe\">\n",
       "  <thead>\n",
       "    <tr style=\"text-align: right;\">\n",
       "      <th></th>\n",
       "      <th>GEOID</th>\n",
       "      <th>SUMLEV</th>\n",
       "      <th>STATE</th>\n",
       "      <th>COUNTY</th>\n",
       "      <th>CBSA</th>\n",
       "      <th>CSA</th>\n",
       "      <th>NECTA</th>\n",
       "      <th>CNECTA</th>\n",
       "      <th>NAME</th>\n",
       "      <th>POP100</th>\n",
       "      <th>HU100</th>\n",
       "      <th>POP100.2000</th>\n",
       "      <th>HU100.2000</th>\n",
       "      <th>P001001</th>\n",
       "      <th>P001001.2000</th>\n",
       "    </tr>\n",
       "  </thead>\n",
       "  <tbody>\n",
       "    <tr>\n",
       "      <th>0</th>\n",
       "      <td>12</td>\n",
       "      <td>40</td>\n",
       "      <td>12</td>\n",
       "      <td>NaN</td>\n",
       "      <td>NaN</td>\n",
       "      <td>NaN</td>\n",
       "      <td>NaN</td>\n",
       "      <td>NaN</td>\n",
       "      <td>Florida</td>\n",
       "      <td>18801310</td>\n",
       "      <td>8989580</td>\n",
       "      <td>15982378</td>\n",
       "      <td>7302947</td>\n",
       "      <td>18801310</td>\n",
       "      <td>15982378</td>\n",
       "    </tr>\n",
       "  </tbody>\n",
       "</table>\n",
       "</div>"
      ],
      "text/plain": [
       "   GEOID  SUMLEV  STATE  COUNTY  CBSA  CSA  NECTA  CNECTA     NAME    POP100  \\\n",
       "0     12      40     12     NaN   NaN  NaN    NaN     NaN  Florida  18801310   \n",
       "\n",
       "     HU100  POP100.2000  HU100.2000   P001001  P001001.2000  \n",
       "0  8989580     15982378     7302947  18801310      15982378  "
      ]
     },
     "execution_count": 18,
     "metadata": {},
     "output_type": "execute_result"
    }
   ],
   "source": [
    "import pandas as pd\n",
    "Location = \"datasets/all_040_in_12.P1.csv\"\n",
    "df = pd.read_csv(Location)\n",
    "\n",
    "df.head()"
   ]
  },
  {
   "cell_type": "code",
   "execution_count": null,
   "metadata": {},
   "outputs": [],
   "source": []
  }
 ],
 "metadata": {
  "kernelspec": {
   "display_name": "Python 3",
   "language": "python",
   "name": "python3"
  },
  "language_info": {
   "codemirror_mode": {
    "name": "ipython",
    "version": 3
   },
   "file_extension": ".py",
   "mimetype": "text/x-python",
   "name": "python",
   "nbconvert_exporter": "python",
   "pygments_lexer": "ipython3",
   "version": "3.8.3"
  }
 },
 "nbformat": 4,
 "nbformat_minor": 4
}
