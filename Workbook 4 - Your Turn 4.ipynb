{
 "cells": [
  {
   "cell_type": "code",
   "execution_count": 20,
   "metadata": {},
   "outputs": [],
   "source": [
    "import pandas as pd\n",
    "import os\n",
    "import sqlite3 as lite\n",
    "\n",
    "Location = \"datasets/gradedata.csv\"\n",
    "df = pd.read_csv(Location)\n",
    "\n",
    "db_filename = r'mygradedata.db'\n",
    "con = lite.connect(db_filename)\n",
    "df.to_sql('Grades',\n",
    "        con,\n",
    "        schema = None,\n",
    "        if_exists = 'replace',\n",
    "        index = True,\n",
    "        index_label = None,\n",
    "        chunksize = None,\n",
    "        dtype = None)\n",
    "con.close()"
   ]
  },
  {
   "cell_type": "code",
   "execution_count": null,
   "metadata": {},
   "outputs": [],
   "source": []
  }
 ],
 "metadata": {
  "kernelspec": {
   "display_name": "Python 3",
   "language": "python",
   "name": "python3"
  },
  "language_info": {
   "codemirror_mode": {
    "name": "ipython",
    "version": 3
   },
   "file_extension": ".py",
   "mimetype": "text/x-python",
   "name": "python",
   "nbconvert_exporter": "python",
   "pygments_lexer": "ipython3",
   "version": "3.8.3"
  }
 },
 "nbformat": 4,
 "nbformat_minor": 4
}
